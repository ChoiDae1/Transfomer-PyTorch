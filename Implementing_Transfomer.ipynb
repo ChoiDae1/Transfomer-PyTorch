{
  "nbformat": 4,
  "nbformat_minor": 0,
  "metadata": {
    "colab": {
      "name": "Implementing Transfomer ",
      "provenance": [],
      "authorship_tag": "ABX9TyP7jnPseMBa3qZf3r35wzgZ",
      "include_colab_link": true
    },
    "kernelspec": {
      "name": "python3",
      "display_name": "Python 3"
    },
    "language_info": {
      "name": "python"
    },
    "accelerator": "GPU"
  },
  "cells": [
    {
      "cell_type": "markdown",
      "metadata": {
        "id": "view-in-github",
        "colab_type": "text"
      },
      "source": [
        "<a href=\"https://colab.research.google.com/github/ChoiDae1/Transfomer-PyTorch/blob/main/Implementing_Transfomer.ipynb\" target=\"_parent\"><img src=\"https://colab.research.google.com/assets/colab-badge.svg\" alt=\"Open In Colab\"/></a>"
      ]
    },
    {
      "cell_type": "markdown",
      "source": [
        "## **Transfomer 구현**\n",
        "\n",
        "\"Attention is All You Need\"(NIPS 2017)에서 제안했던 Transfomer를 구현\n"
      ],
      "metadata": {
        "id": "UTDKg0zx_5ML"
      }
    },
    {
      "cell_type": "markdown",
      "source": [
        "### **데이터 전처리 함수 정의 및 필요한 라이브러리 다운**"
      ],
      "metadata": {
        "id": "u6NFF1r_BSgu"
      }
    },
    {
      "cell_type": "code",
      "source": [
        "!pip install torchtext==0.6.0   #BLUE Score 사용을 위한 라이브러리"
      ],
      "metadata": {
        "colab": {
          "base_uri": "https://localhost:8080/"
        },
        "id": "zspO8WX0BSAM",
        "outputId": "3eff4d7d-bb96-4d3f-d5ca-d4809d8adcd5"
      },
      "execution_count": 1,
      "outputs": [
        {
          "output_type": "stream",
          "name": "stdout",
          "text": [
            "Collecting torchtext==0.6.0\n",
            "  Downloading torchtext-0.6.0-py3-none-any.whl (64 kB)\n",
            "\u001b[?25l\r\u001b[K     |█████                           | 10 kB 23.2 MB/s eta 0:00:01\r\u001b[K     |██████████▏                     | 20 kB 28.3 MB/s eta 0:00:01\r\u001b[K     |███████████████▎                | 30 kB 32.0 MB/s eta 0:00:01\r\u001b[K     |████████████████████▍           | 40 kB 34.1 MB/s eta 0:00:01\r\u001b[K     |█████████████████████████▌      | 51 kB 36.8 MB/s eta 0:00:01\r\u001b[K     |██████████████████████████████▋ | 61 kB 27.2 MB/s eta 0:00:01\r\u001b[K     |████████████████████████████████| 64 kB 2.2 MB/s \n",
            "\u001b[?25hRequirement already satisfied: numpy in /usr/local/lib/python3.7/dist-packages (from torchtext==0.6.0) (1.21.5)\n",
            "Requirement already satisfied: torch in /usr/local/lib/python3.7/dist-packages (from torchtext==0.6.0) (1.10.0+cu111)\n",
            "Requirement already satisfied: tqdm in /usr/local/lib/python3.7/dist-packages (from torchtext==0.6.0) (4.62.3)\n",
            "Requirement already satisfied: six in /usr/local/lib/python3.7/dist-packages (from torchtext==0.6.0) (1.15.0)\n",
            "Collecting sentencepiece\n",
            "  Downloading sentencepiece-0.1.96-cp37-cp37m-manylinux_2_17_x86_64.manylinux2014_x86_64.whl (1.2 MB)\n",
            "\u001b[K     |████████████████████████████████| 1.2 MB 45.1 MB/s \n",
            "\u001b[?25hRequirement already satisfied: requests in /usr/local/lib/python3.7/dist-packages (from torchtext==0.6.0) (2.23.0)\n",
            "Requirement already satisfied: chardet<4,>=3.0.2 in /usr/local/lib/python3.7/dist-packages (from requests->torchtext==0.6.0) (3.0.4)\n",
            "Requirement already satisfied: idna<3,>=2.5 in /usr/local/lib/python3.7/dist-packages (from requests->torchtext==0.6.0) (2.10)\n",
            "Requirement already satisfied: certifi>=2017.4.17 in /usr/local/lib/python3.7/dist-packages (from requests->torchtext==0.6.0) (2021.10.8)\n",
            "Requirement already satisfied: urllib3!=1.25.0,!=1.25.1,<1.26,>=1.21.1 in /usr/local/lib/python3.7/dist-packages (from requests->torchtext==0.6.0) (1.24.3)\n",
            "Requirement already satisfied: typing-extensions in /usr/local/lib/python3.7/dist-packages (from torch->torchtext==0.6.0) (3.10.0.2)\n",
            "Installing collected packages: sentencepiece, torchtext\n",
            "  Attempting uninstall: torchtext\n",
            "    Found existing installation: torchtext 0.11.0\n",
            "    Uninstalling torchtext-0.11.0:\n",
            "      Successfully uninstalled torchtext-0.11.0\n",
            "Successfully installed sentencepiece-0.1.96 torchtext-0.6.0\n"
          ]
        }
      ]
    },
    {
      "cell_type": "code",
      "source": [
        "%%capture\n",
        "!python -m spacy download en\n",
        "!python -m spacy download de   # 텍스트 토큰화, 태깅을 위한 spacy 라이브러리 "
      ],
      "metadata": {
        "id": "ZOpO4TiKBGMs"
      },
      "execution_count": 2,
      "outputs": []
    },
    {
      "cell_type": "code",
      "source": [
        "import spacy\n",
        "\n",
        "spacy_en = spacy.load('en') # 영어 토큰화(tokenization)\n",
        "spacy_de = spacy.load('de') # 독일어 토큰화(tokenization)"
      ],
      "metadata": {
        "id": "eMG_nMovAtNB"
      },
      "execution_count": 3,
      "outputs": []
    },
    {
      "cell_type": "code",
      "source": [
        "# 토큰화 기능 테스트\n",
        "tokenized = spacy_en.tokenizer(\"I am a student\")\n",
        "\n",
        "for i, token in enumerate(tokenized):\n",
        "    print(f'인덱스{i}: {token.text}')\n"
      ],
      "metadata": {
        "colab": {
          "base_uri": "https://localhost:8080/"
        },
        "id": "Ucc4JXcqCMQ2",
        "outputId": "39924911-f4ae-4044-a095-8ade70368490"
      },
      "execution_count": 4,
      "outputs": [
        {
          "output_type": "stream",
          "name": "stdout",
          "text": [
            "인덱스0: I\n",
            "인덱스1: am\n",
            "인덱스2: a\n",
            "인덱스3: student\n"
          ]
        }
      ]
    },
    {
      "cell_type": "code",
      "source": [
        "# 영어, 독일어 토큰화 함수 정의\n",
        "\n",
        "def tokenize_de(text): # 독일어\n",
        "    return [token.text for token in spacy_de.tokenizer(text)]\n",
        "\n",
        "def tokenize_en(text): # 영어\n",
        "    return [token.text for token in spacy_en.tokenizer(text)]"
      ],
      "metadata": {
        "id": "SZiMMTiyCm0c"
      },
      "execution_count": 5,
      "outputs": []
    },
    {
      "cell_type": "code",
      "source": [
        "# Field 라이브러리를 사용해 전처리 class 정의 \n",
        "from torchtext.data import Field, BucketIterator\n",
        "\n",
        "SRC = Field(tokenize=tokenize_de, init_token=\"<sos>\", eos_token=\"<eos>\", lower=True, batch_first=True) # batch_first=True 무조건해야 함\n",
        "TRG = Field(tokenize=tokenize_en, init_token=\"<sos>\", eos_token=\"<eos>\", lower=True, batch_first=True)"
      ],
      "metadata": {
        "id": "3vmPNqD2DrhH"
      },
      "execution_count": 6,
      "outputs": []
    },
    {
      "cell_type": "markdown",
      "source": [
        "### **Multi30k 데이터셋 불러오기 및 데이터셋 분할**"
      ],
      "metadata": {
        "id": "OlLrdzg8KSWC"
      }
    },
    {
      "cell_type": "code",
      "source": [
        "# 대표적인 영어-독일 번역 데이터셋 Multi30k 불러오기\n",
        "from torchtext.datasets import Multi30k\n",
        "\n",
        "train_dataset, valid_dataset, test_dataset = Multi30k.splits(exts=(\".de\", \".en\"), fields=(SRC, TRG))"
      ],
      "metadata": {
        "colab": {
          "base_uri": "https://localhost:8080/"
        },
        "id": "rYzvYMz4EEM8",
        "outputId": "e83cfaed-5d40-4ffc-90fc-d63e90a3c7e9"
      },
      "execution_count": 7,
      "outputs": [
        {
          "output_type": "stream",
          "name": "stdout",
          "text": [
            "downloading training.tar.gz\n"
          ]
        },
        {
          "output_type": "stream",
          "name": "stderr",
          "text": [
            "training.tar.gz: 100%|██████████| 1.21M/1.21M [00:01<00:00, 721kB/s] \n"
          ]
        },
        {
          "output_type": "stream",
          "name": "stdout",
          "text": [
            "downloading validation.tar.gz\n"
          ]
        },
        {
          "output_type": "stream",
          "name": "stderr",
          "text": [
            "validation.tar.gz: 100%|██████████| 46.3k/46.3k [00:00<00:00, 282kB/s]\n"
          ]
        },
        {
          "output_type": "stream",
          "name": "stdout",
          "text": [
            "downloading mmt_task1_test2016.tar.gz\n"
          ]
        },
        {
          "output_type": "stream",
          "name": "stderr",
          "text": [
            "mmt_task1_test2016.tar.gz: 100%|██████████| 66.2k/66.2k [00:00<00:00, 264kB/s]\n"
          ]
        }
      ]
    },
    {
      "cell_type": "code",
      "source": [
        "print(f\"학습 데이터셋(training dataset) 크기: {len(train_dataset.examples)}개\")\n",
        "print(f\"평가 데이터셋(validation dataset) 크기: {len(valid_dataset.examples)}개\")\n",
        "print(f\"테스트 데이터셋(testing dataset) 크기: {len(test_dataset.examples)}개\")"
      ],
      "metadata": {
        "colab": {
          "base_uri": "https://localhost:8080/"
        },
        "id": "8lJLQ960EuZU",
        "outputId": "2a10714d-320e-4e29-bda0-112af7c49519"
      },
      "execution_count": 8,
      "outputs": [
        {
          "output_type": "stream",
          "name": "stdout",
          "text": [
            "학습 데이터셋(training dataset) 크기: 29000개\n",
            "평가 데이터셋(validation dataset) 크기: 1014개\n",
            "테스트 데이터셋(testing dataset) 크기: 1000개\n"
          ]
        }
      ]
    },
    {
      "cell_type": "code",
      "source": [
        "# 학습 데이터 중 하나를 선택해 출력\n",
        "print(vars(train_dataset.examples[30])['src'])\n",
        "print(vars(train_dataset.examples[30])['trg'])"
      ],
      "metadata": {
        "colab": {
          "base_uri": "https://localhost:8080/"
        },
        "id": "hqbOgSGOE3DW",
        "outputId": "55b062ec-db4b-41c3-fbdf-79ace1007ff0"
      },
      "execution_count": 9,
      "outputs": [
        {
          "output_type": "stream",
          "name": "stdout",
          "text": [
            "['ein', 'mann', ',', 'der', 'mit', 'einer', 'tasse', 'kaffee', 'an', 'einem', 'urinal', 'steht', '.']\n",
            "['a', 'man', 'standing', 'at', 'a', 'urinal', 'with', 'a', 'coffee', 'cup', '.']\n"
          ]
        }
      ]
    },
    {
      "cell_type": "code",
      "source": [
        "# Field 객체의 build_vocab 메서드를 이용해 영어와 독어의 단어 사전을 생성 -> 최소 2번 이상 등장한 단어만 선택\n",
        "SRC.build_vocab(train_dataset, min_freq=2)\n",
        "TRG.build_vocab(train_dataset, min_freq=2)\n",
        "print(f\"len(SRC): {len(SRC.vocab)}\")\n",
        "print(f\"len(TRG): {len(TRG.vocab)}\")"
      ],
      "metadata": {
        "colab": {
          "base_uri": "https://localhost:8080/"
        },
        "id": "-q-Rax--FAA0",
        "outputId": "93d923c6-78ed-425a-dfcd-ccefeb4419b1"
      },
      "execution_count": 10,
      "outputs": [
        {
          "output_type": "stream",
          "name": "stdout",
          "text": [
            "len(SRC): 7855\n",
            "len(TRG): 5893\n"
          ]
        }
      ]
    },
    {
      "cell_type": "code",
      "source": [
        "print(TRG.vocab.stoi[\"abcabc\"]) # 없는 단어: 0\n",
        "print(TRG.vocab.stoi[TRG.pad_token]) # 패딩(padding): 1\n",
        "print(TRG.vocab.stoi[\"<sos>\"]) # <sos>: 2\n",
        "print(TRG.vocab.stoi[\"<eos>\"]) # <eos>: 3\n",
        "print(TRG.vocab.stoi[\"hello\"])\n",
        "print(TRG.vocab.stoi[\"world\"])"
      ],
      "metadata": {
        "colab": {
          "base_uri": "https://localhost:8080/"
        },
        "id": "2qSNM3YQGBxk",
        "outputId": "3a24a195-09f7-4ba0-b996-280b86bb7f40"
      },
      "execution_count": 11,
      "outputs": [
        {
          "output_type": "stream",
          "name": "stdout",
          "text": [
            "0\n",
            "1\n",
            "2\n",
            "3\n",
            "4112\n",
            "1752\n"
          ]
        }
      ]
    },
    {
      "cell_type": "code",
      "source": [
        "SRC_PAD_IDX = SRC.vocab.stoi[SRC.pad_token]\n",
        "print(SRC_PAD_IDX)"
      ],
      "metadata": {
        "colab": {
          "base_uri": "https://localhost:8080/"
        },
        "id": "elIwZOQzGXjz",
        "outputId": "479dc66c-dacb-40e8-d865-a916f41f18ec"
      },
      "execution_count": 12,
      "outputs": [
        {
          "output_type": "stream",
          "name": "stdout",
          "text": [
            "1\n"
          ]
        }
      ]
    },
    {
      "cell_type": "code",
      "source": [
        "# 하나의 배치에 포함된 문장들이 가지는 단어의 개수가 유사하도록 만들면 좋음 -> 이를위해 BucketIterator 사용\n",
        "BATCH_SIZE = 128\n",
        "\n",
        "# 일반적인 데이터 로더(data loader)의 iterator와 유사하게 사용 가능, 참고로 앞서 build_vocab을 사용해 만든 영어와 독일사전을 기준으로 부여된 인덱스가 자동으로 활용됨.\n",
        "train_iterator, valid_iterator, test_iterator = BucketIterator.splits(\n",
        "    (train_dataset, valid_dataset, test_dataset),\n",
        "    batch_size=BATCH_SIZE)"
      ],
      "metadata": {
        "id": "XI2olEiuGTfK"
      },
      "execution_count": 13,
      "outputs": []
    },
    {
      "cell_type": "code",
      "source": [
        "import torch\n",
        "\n",
        "for i, batch in enumerate(train_iterator): \n",
        "    src = batch.src\n",
        "    trg = batch.trg\n",
        "    print(f'첫 번째 배치의 shape {src.shape}')\n",
        "    print(f'첫 번째 배치의 shape {trg.shape}')\n",
        "    trg_pad_mask = (trg != 1).unsqueeze(1).unsqueeze(2)\n",
        "    print(trg.shape)\n",
        "    #print(trg_pad_mask.shape)\n",
        "    #trg_sub_mask = torch.tril(torch.ones((trg.shape[1], trg.shape[1]))).bool()\n",
        "    #print(trg_sub_mask.shape)\n",
        "    #print(trg_sub_mask)\n",
        "    #mask = trg_pad_mask & trg_sub_mask\n",
        "    # 현재 배치에 있는 하나의 문장에 포함된 정보 출력\n",
        "    for i in range(src.shape[1]):\n",
        "        print(f\"인덱스 {i}: {src[0][i].item()}\")\n",
        "\n",
        "    # 첫 번째 배치만 확인\n",
        "    break\n",
        "    "
      ],
      "metadata": {
        "colab": {
          "base_uri": "https://localhost:8080/"
        },
        "id": "9b94JFOqGmK4",
        "outputId": "fb51022c-8a8a-4049-cd4e-192dc193622f"
      },
      "execution_count": 14,
      "outputs": [
        {
          "output_type": "stream",
          "name": "stdout",
          "text": [
            "첫 번째 배치의 shape torch.Size([128, 24])\n",
            "첫 번째 배치의 shape torch.Size([128, 26])\n",
            "torch.Size([128, 26])\n",
            "인덱스 0: 2\n",
            "인덱스 1: 43\n",
            "인덱스 2: 41\n",
            "인덱스 3: 53\n",
            "인덱스 4: 7\n",
            "인덱스 5: 6\n",
            "인덱스 6: 353\n",
            "인덱스 7: 10\n",
            "인덱스 8: 5\n",
            "인덱스 9: 13\n",
            "인덱스 10: 710\n",
            "인덱스 11: 7\n",
            "인덱스 12: 17\n",
            "인덱스 13: 115\n",
            "인덱스 14: 4\n",
            "인덱스 15: 3\n",
            "인덱스 16: 1\n",
            "인덱스 17: 1\n",
            "인덱스 18: 1\n",
            "인덱스 19: 1\n",
            "인덱스 20: 1\n",
            "인덱스 21: 1\n",
            "인덱스 22: 1\n",
            "인덱스 23: 1\n"
          ]
        }
      ]
    },
    {
      "cell_type": "markdown",
      "source": [
        "### **Implementing Transfomer Architecture** \n",
        "![image.png](data:image/png;base64,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)"
      ],
      "metadata": {
        "id": "H1QE1eHIKsf6"
      }
    },
    {
      "cell_type": "code",
      "source": [
        "# Multi Head Attention -> input size: (batch_size, seq_len, embedding_dim)이 여야 함. seq_len = query_len 또는 key_len 또는 value_len\n",
        "import torch.nn as nn\n",
        "\n",
        "class MHALayer(nn.Module):\n",
        "    def __init__(self, embedding_dim, model_dim, num_heads): # model_dim = num_heads * head_dim\n",
        "        super(MHALayer, self).__init__()\n",
        "        self.q = nn.Linear(embedding_dim, model_dim)\n",
        "        self.k = nn.Linear(embedding_dim, model_dim)\n",
        "        self.v = nn.Linear(embedding_dim, model_dim)\n",
        "        \n",
        "        self.model_dim = model_dim\n",
        "        self.num_heads = num_heads\n",
        "        self.head_dim = model_dim // num_heads\n",
        "        self.scale_factor = torch.sqrt(torch.FloatTensor([self.head_dim]))\n",
        "        self.o = nn.Linear(model_dim, embedding_dim)\n",
        "\n",
        "    def forward(self, query, key, value, mask=None):\n",
        "        batch_size = query.shape[0]\n",
        "\n",
        "        Q = self.q(query) # (batch_size, query_len, model_dim)\n",
        "        K = self.k(key)  # (batch_size, key_len, model_dim)\n",
        "        V=  self.v(value) # (batch_size, value_len, model_dim)\n",
        "        \n",
        "        Q = Q.view(batch_size, -1, self.num_heads, self.head_dim).permute(0, 2, 1, 3) # (batch_size, num_heads, query_len, head_dim)\n",
        "        K = K.view(batch_size, -1, self.num_heads, self.head_dim).permute(0, 2, 1, 3) # (batch_size, num_heads, key_len, head_dim)\n",
        "        V = V.view(batch_size, -1, self.num_heads, self.head_dim).permute(0, 2, 1, 3) # (batch_size, num_heads, value_len, head_dim)\n",
        "\n",
        "        # Attention Energy \n",
        "        energy = torch.matmul(Q, K.permute(0, 1, 3, 2)) / self.scale_factor # (batch_size, num_heads, query_len, key_len)\n",
        "\n",
        "        # mask use case\n",
        "        if mask is not None:\n",
        "            # 마스크(mask) 값이 0인 부분을 -1e10으로 채우기 -> 이 부분은 softmax를 거치면서 무시되는 값들임\n",
        "            energy = energy.masked_fill(mask==0, -1e10)\n",
        "        \n",
        "        attention = torch.softmax(energy, dim=-1) # (batch_size, num_heads, query_len, key_len)\n",
        "        \n",
        "        # Scaled Dot-Product Attention\n",
        "        x = torch.matmul(attention, V) # (batch_size, num_heads, query_len, head_dim), 이 연산에서는 key_len과 value_len이 같아야 함.\n",
        "\n",
        "        x = x.permute(0, 2, 1, 3).contiguous() # (batch_size, query_len, num_heads, head_dim)\n",
        "        x = x.view(batch_size, -1, self.model_dim) # (batch_size, query_len, model_dim)\n",
        "\n",
        "        x = self.o(x) # (batch_size, query_len, embedding_dim)\n",
        "        \n",
        "        return x, attention\n",
        "\n",
        "# Feedforward Layer -> input size: (batch_size, seq_len, embedding_dim)\n",
        "class FeedforwardLayer(nn.Module):\n",
        "    def __init__(self, embedding_dim, hidden_dim, dropout_rate):\n",
        "        super(FeedforwardLayer, self).__init__()\n",
        "\n",
        "        self.fc1 = nn.Linear(embedding_dim, hidden_dim)\n",
        "        self.fc2 = nn.Linear(hidden_dim, embedding_dim)\n",
        "        self.dropout = nn.Dropout(dropout_rate)\n",
        "    \n",
        "    def forward(self, input):\n",
        "        x = self.dropout(self.fc1(input))\n",
        "        x = self.fc2(x)\n",
        "\n",
        "        return x"
      ],
      "metadata": {
        "id": "r2s0AMCSHBD6"
      },
      "execution_count": 80,
      "outputs": []
    },
    {
      "cell_type": "code",
      "source": [
        "# EncoderLayer\n",
        "class EncoderLayer(nn.Module):\n",
        "    def __init__(self, embedding_dim, model_dim, num_heads, hidden_dim, dropout_rate):\n",
        "        super(EncoderLayer, self).__init__()\n",
        "\n",
        "        self.layer_norm = nn.LayerNorm(embedding_dim)\n",
        "        self.mha = MHALayer(embedding_dim, model_dim, num_heads)\n",
        "        self.feedforward = FeedforwardLayer(embedding_dim, hidden_dim, dropout_rate)\n",
        "        self.dropout = nn.Dropout(dropout_rate)\n",
        "    \n",
        "    def forward(self, input, input_mask=None): #필요한 경우 mask 사용, input size: (batch_size, seq_len, embedding_size)\n",
        "        out1, _ = self.mha(input, input, input, input_mask)\n",
        "        out2 = self.layer_norm(self.dropout(out1) + input)\n",
        "        out3 = self.feedforward(out2)\n",
        "        out4 = self.layer_norm(self.dropout(out3) + out2)\n",
        "\n",
        "        return out4"
      ],
      "metadata": {
        "id": "n1wvUjymnMsG"
      },
      "execution_count": 81,
      "outputs": []
    },
    {
      "cell_type": "code",
      "source": [
        "class Encoder(nn.Module):\n",
        "    def __init__(self, input_dim, embedding_dim, num_layers, model_dim, num_heads, hidden_dim, dropout_rate, max_length=100):\n",
        "        super(Encoder, self).__init__()\n",
        "\n",
        "        self.tok_embedding = nn.Embedding(input_dim, embedding_dim)\n",
        "        self.pos_embedding = nn.Embedding(max_length, embedding_dim)\n",
        "        self.layers = nn.ModuleList([EncoderLayer(embedding_dim, model_dim, num_heads, hidden_dim, dropout_rate) for _ in range(num_layers)])\n",
        "        self.dropout = nn.Dropout(dropout_rate)\n",
        "        self.scale = torch.sqrt(torch.FloatTensor([embedding_dim]))\n",
        "        \n",
        "    def forward(self, input, input_mask=None):\n",
        "        # input_mask: [batch_size, seq_len]\n",
        "        batch_size = input.shape[0]\n",
        "        seq_len = input.shape[1]\n",
        "        \n",
        "        # Positional Encoding\n",
        "        pos = torch.arange(0, seq_len).unsqueeze(0).repeat(batch_size, 1) # (batch_size, seq_len)\n",
        "        x = self.dropout((self.tok_embedding(input) * self.scale) + self.pos_embedding(pos)) # (batch_size, seq_len, embedding_dim)\n",
        "\n",
        "        for layer in self.layers:\n",
        "            x = layer(x, input_mask)\n",
        "        \n",
        "        return x\n"
      ],
      "metadata": {
        "id": "UPdKVNumsHjF"
      },
      "execution_count": 82,
      "outputs": []
    },
    {
      "cell_type": "code",
      "source": [
        "class DecoderLayer(nn.Module):\n",
        "    def __init__(self, embedding_dim, model_dim, num_heads, hidden_dim, dropout_rate):\n",
        "        super(DecoderLayer, self).__init__()\n",
        "\n",
        "        self.layer_norm = nn.LayerNorm(embedding_dim)\n",
        "        self.self_attention = MHALayer(embedding_dim, model_dim, num_heads)\n",
        "        self.encoder_attention = MHALayer(embedding_dim, model_dim, num_heads)\n",
        "        self.feedforward = FeedforwardLayer(embedding_dim, hidden_dim, dropout_rate)\n",
        "        self.dropout = nn.Dropout(dropout_rate)\n",
        "    \n",
        "    def forward(self, input, enc_output, input_mask, enc_mask):\n",
        "        # input: [batch_size, seq_len(decoder), embedding_dim]\n",
        "        # enc_src: [batch_size, seq_len(encoder's output), embedding_dim]\n",
        "        # input_mask: [batch_size, seq_len(decoder)]\n",
        "        # enc_mask: [batch_size, seq_len(encoder's output)]\n",
        "\n",
        "        out1, _ = self.self_attention(input, input, input, input_mask)\n",
        "        out2 = self.layer_norm(input + self.dropout(out1))\n",
        "        out3, attention  = self.encoder_attention(out2, enc_output, enc_output, enc_mask)\n",
        "        out4 = self.layer_norm(out2 + self.dropout(out3))\n",
        "        out5 = self.feedforward(out4)\n",
        "        out6 = self.layer_norm(out4 + self.dropout(out5))\n",
        "\n",
        "        # out6: (batch_size, seq_len(decoder), embedding_dim)\n",
        "        # attention: (batch_size, num_heads, seq_len(decoder), seq_len(encoder's output))\n",
        "        return out6, attention\n"
      ],
      "metadata": {
        "id": "-oof9T5yxkmq"
      },
      "execution_count": 83,
      "outputs": []
    },
    {
      "cell_type": "code",
      "source": [
        "class Decoder(nn.Module):\n",
        "    def __init__(self, output_dim, embedding_dim, num_layers, model_dim, num_heads, hidden_dim, dropout_rate, max_length=100):\n",
        "        super(Decoder, self).__init__()\n",
        "\n",
        "        self.tok_embedding = nn.Embedding(output_dim, embedding_dim)\n",
        "        self.pos_embedding = nn.Embedding(max_length, embedding_dim)\n",
        "\n",
        "        self.layers = nn.ModuleList([DecoderLayer(embedding_dim, model_dim, num_heads, hidden_dim, dropout_rate) for _ in range(num_layers)])\n",
        "        self.fc_out = nn.Linear(embedding_dim, output_dim)\n",
        "        self.dropout = nn.Dropout(dropout_rate)\n",
        "        self.scale = torch.sqrt(torch.FloatTensor([embedding_dim]))\n",
        "    \n",
        "    def forward(self, input, enc_output, input_mask, enc_mask):\n",
        "        batch_size = input.shape[0]\n",
        "        seq_len = input.shape[1]\n",
        "\n",
        "        pos = torch.arange(0, seq_len).unsqueeze(0).repeat(batch_size, 1)\n",
        "        x = self.dropout((self.tok_embedding(input) * self.scale) + self.pos_embedding(pos)) # (batch_size, seq_len, embedding_dim)\n",
        "\n",
        "        for layer in self.layers:\n",
        "            x, attention = layer(x, enc_output, input_mask, enc_mask)\n",
        "        \n",
        "        x = self.fc_out(x)\n",
        "        \n",
        "        return x, attention \n"
      ],
      "metadata": {
        "id": "F9RoJEEI7SCn"
      },
      "execution_count": 96,
      "outputs": []
    },
    {
      "cell_type": "code",
      "source": [
        "# Transfomer\n",
        "class Transfomer(nn.Module):\n",
        "    def __init__(self, encoder, decoder, enc_pad_idx, dec_pad_idx):\n",
        "        super(Transfomer, self).__init__()\n",
        "        self.encoder = encoder\n",
        "        self.decoder = decoder\n",
        "        self.enc_pad_idx = enc_pad_idx\n",
        "        self.dec_pad_idx = dec_pad_idx\n",
        "    \n",
        "    def make_enc_mask(self, enc_input):\n",
        "        enc_mask = (enc_input != self.enc_pad_idx).unsqueeze(1).unsqueeze(2) # (batch_size, 1, 1, seq_len(encoder))\n",
        "        \n",
        "        return enc_mask\n",
        "    \n",
        "    def make_dec_mask(self, dec_input):\n",
        "        dec_pad_mask = (dec_input != self.dec_pad_idx).unsqueeze(1).unsqueeze(2) # (batch_size, 1, 1, seq_len(decoder))\n",
        "\n",
        "        dec_len = dec_input.shape[1]\n",
        "        dec_sub_mask = torch.tril(torch.ones(dec_len, dec_len)).bool() # (seq_len(decoder), seq_len(decoder))\n",
        "\n",
        "        dec_mask = dec_pad_mask & dec_sub_mask # (batch_size, 1, seq_len, seq_len)\n",
        "\n",
        "        return dec_mask\n",
        "    \n",
        "    def forward(self, enc_input, dec_input):\n",
        "        enc_mask = self.make_enc_mask(enc_input)\n",
        "        dec_mask = self.make_dec_mask(dec_input)\n",
        "\n",
        "        enc_output = self.encoder(enc_input, enc_mask) # (batch_size, seq_len(encoder), embedding_size)\n",
        "        dec_output, attention = self.decoder(dec_input, enc_output, dec_mask, enc_mask) # dec_output: (batch_size, seq_len(decoder), out_dim) \n",
        "                                                                                        # attention: (batch_size, num_heads, seq_len(decoder), seq_len(encoder's output))\n",
        "        \n",
        "        return dec_output, attention\n"
      ],
      "metadata": {
        "id": "fb6mp-nZDRNF"
      },
      "execution_count": 97,
      "outputs": []
    },
    {
      "cell_type": "markdown",
      "source": [
        "### **Model Learning**"
      ],
      "metadata": {
        "id": "NQ1z_7a-Sozu"
      }
    },
    {
      "cell_type": "code",
      "source": [
        "input_dim = len(SRC.vocab)\n",
        "output_dim = len(TRG.vocab)\n",
        "embedding_dim = 256\n",
        "model_dim = 256\n",
        "enc_layers = 3\n",
        "dec_layers = 3\n",
        "enc_heads = 8\n",
        "dec_heads = 8\n",
        "enc_hidden_dim = 512\n",
        "dec_hidden_dim = 512\n",
        "enc_dropout_rate = 0.1\n",
        "dec_dropout_rate = 0.1"
      ],
      "metadata": {
        "id": "WGVRAhohMEuz"
      },
      "execution_count": 98,
      "outputs": []
    },
    {
      "cell_type": "code",
      "source": [
        "device = torch.device('cuda' if torch.cuda.is_available() else 'cpu')\n",
        "print(device)"
      ],
      "metadata": {
        "colab": {
          "base_uri": "https://localhost:8080/"
        },
        "id": "wMhDntQJU220",
        "outputId": "fe02a752-561e-4be7-99ad-f8d1a44bb768"
      },
      "execution_count": 99,
      "outputs": [
        {
          "output_type": "stream",
          "name": "stdout",
          "text": [
            "cpu\n"
          ]
        }
      ]
    },
    {
      "cell_type": "code",
      "source": [
        "enc_pad_idx = SRC.vocab.stoi[SRC.pad_token] # 1\n",
        "dec_pad_idx = TRG.vocab.stoi[TRG.pad_token] # 1\n",
        "\n",
        "# Encoder, Decoder 객체 선언\n",
        "encoder = Encoder(input_dim, embedding_dim, enc_layers, model_dim, enc_heads, enc_hidden_dim, enc_dropout_rate)\n",
        "decoder = Decoder(output_dim, embedding_dim, dec_layers, model_dim, dec_heads, dec_hidden_dim, dec_dropout_rate)\n",
        "\n",
        "# Transfomer 객체 선언\n",
        "model = Transfomer(encoder, decoder, enc_pad_idx, dec_pad_idx).to(device)"
      ],
      "metadata": {
        "id": "f7rYDs_GSnyb"
      },
      "execution_count": 100,
      "outputs": []
    },
    {
      "cell_type": "code",
      "source": [
        "# 모델 가중치 확인\n",
        "def count_parameters(model):\n",
        "    return sum(p.numel() for p in model.parameters() if p.requires_grad)\n",
        "\n",
        "print(f'The model has {count_parameters(model):,} trainable parameters')"
      ],
      "metadata": {
        "colab": {
          "base_uri": "https://localhost:8080/"
        },
        "id": "FweZUJMtVKIS",
        "outputId": "2716b78f-6f14-4cbe-fed4-e985e9821390"
      },
      "execution_count": 101,
      "outputs": [
        {
          "output_type": "stream",
          "name": "stdout",
          "text": [
            "The model has 9,034,245 trainable parameters\n"
          ]
        }
      ]
    },
    {
      "cell_type": "code",
      "source": [
        "# 모델 가중치 초기화\n",
        "def initialize_weights(m):\n",
        "    if hasattr(m, 'weight') and m.weight.dim() > 1:\n",
        "        nn.init.xavier_uniform_(m.weight.data)\n",
        "\n",
        "model.apply(initialize_weights)"
      ],
      "metadata": {
        "colab": {
          "base_uri": "https://localhost:8080/"
        },
        "id": "d0IT2EhUYhK2",
        "outputId": "24ef376d-3f21-435b-d346-f76be3beeabd"
      },
      "execution_count": 102,
      "outputs": [
        {
          "output_type": "execute_result",
          "data": {
            "text/plain": [
              "Transfomer(\n",
              "  (encoder): Encoder(\n",
              "    (tok_embedding): Embedding(7855, 256)\n",
              "    (pos_embedding): Embedding(100, 256)\n",
              "    (layers): ModuleList(\n",
              "      (0): EncoderLayer(\n",
              "        (layer_norm): LayerNorm((256,), eps=1e-05, elementwise_affine=True)\n",
              "        (mha): MHALayer(\n",
              "          (q): Linear(in_features=256, out_features=256, bias=True)\n",
              "          (k): Linear(in_features=256, out_features=256, bias=True)\n",
              "          (v): Linear(in_features=256, out_features=256, bias=True)\n",
              "          (o): Linear(in_features=256, out_features=256, bias=True)\n",
              "        )\n",
              "        (feedforward): FeedforwardLayer(\n",
              "          (fc1): Linear(in_features=256, out_features=512, bias=True)\n",
              "          (fc2): Linear(in_features=512, out_features=256, bias=True)\n",
              "          (dropout): Dropout(p=0.1, inplace=False)\n",
              "        )\n",
              "        (dropout): Dropout(p=0.1, inplace=False)\n",
              "      )\n",
              "      (1): EncoderLayer(\n",
              "        (layer_norm): LayerNorm((256,), eps=1e-05, elementwise_affine=True)\n",
              "        (mha): MHALayer(\n",
              "          (q): Linear(in_features=256, out_features=256, bias=True)\n",
              "          (k): Linear(in_features=256, out_features=256, bias=True)\n",
              "          (v): Linear(in_features=256, out_features=256, bias=True)\n",
              "          (o): Linear(in_features=256, out_features=256, bias=True)\n",
              "        )\n",
              "        (feedforward): FeedforwardLayer(\n",
              "          (fc1): Linear(in_features=256, out_features=512, bias=True)\n",
              "          (fc2): Linear(in_features=512, out_features=256, bias=True)\n",
              "          (dropout): Dropout(p=0.1, inplace=False)\n",
              "        )\n",
              "        (dropout): Dropout(p=0.1, inplace=False)\n",
              "      )\n",
              "      (2): EncoderLayer(\n",
              "        (layer_norm): LayerNorm((256,), eps=1e-05, elementwise_affine=True)\n",
              "        (mha): MHALayer(\n",
              "          (q): Linear(in_features=256, out_features=256, bias=True)\n",
              "          (k): Linear(in_features=256, out_features=256, bias=True)\n",
              "          (v): Linear(in_features=256, out_features=256, bias=True)\n",
              "          (o): Linear(in_features=256, out_features=256, bias=True)\n",
              "        )\n",
              "        (feedforward): FeedforwardLayer(\n",
              "          (fc1): Linear(in_features=256, out_features=512, bias=True)\n",
              "          (fc2): Linear(in_features=512, out_features=256, bias=True)\n",
              "          (dropout): Dropout(p=0.1, inplace=False)\n",
              "        )\n",
              "        (dropout): Dropout(p=0.1, inplace=False)\n",
              "      )\n",
              "    )\n",
              "    (dropout): Dropout(p=0.1, inplace=False)\n",
              "  )\n",
              "  (decoder): Decoder(\n",
              "    (tok_embedding): Embedding(5893, 256)\n",
              "    (pos_embedding): Embedding(100, 256)\n",
              "    (layers): ModuleList(\n",
              "      (0): DecoderLayer(\n",
              "        (layer_norm): LayerNorm((256,), eps=1e-05, elementwise_affine=True)\n",
              "        (self_attention): MHALayer(\n",
              "          (q): Linear(in_features=256, out_features=256, bias=True)\n",
              "          (k): Linear(in_features=256, out_features=256, bias=True)\n",
              "          (v): Linear(in_features=256, out_features=256, bias=True)\n",
              "          (o): Linear(in_features=256, out_features=256, bias=True)\n",
              "        )\n",
              "        (encoder_attention): MHALayer(\n",
              "          (q): Linear(in_features=256, out_features=256, bias=True)\n",
              "          (k): Linear(in_features=256, out_features=256, bias=True)\n",
              "          (v): Linear(in_features=256, out_features=256, bias=True)\n",
              "          (o): Linear(in_features=256, out_features=256, bias=True)\n",
              "        )\n",
              "        (feedforward): FeedforwardLayer(\n",
              "          (fc1): Linear(in_features=256, out_features=512, bias=True)\n",
              "          (fc2): Linear(in_features=512, out_features=256, bias=True)\n",
              "          (dropout): Dropout(p=0.1, inplace=False)\n",
              "        )\n",
              "        (dropout): Dropout(p=0.1, inplace=False)\n",
              "      )\n",
              "      (1): DecoderLayer(\n",
              "        (layer_norm): LayerNorm((256,), eps=1e-05, elementwise_affine=True)\n",
              "        (self_attention): MHALayer(\n",
              "          (q): Linear(in_features=256, out_features=256, bias=True)\n",
              "          (k): Linear(in_features=256, out_features=256, bias=True)\n",
              "          (v): Linear(in_features=256, out_features=256, bias=True)\n",
              "          (o): Linear(in_features=256, out_features=256, bias=True)\n",
              "        )\n",
              "        (encoder_attention): MHALayer(\n",
              "          (q): Linear(in_features=256, out_features=256, bias=True)\n",
              "          (k): Linear(in_features=256, out_features=256, bias=True)\n",
              "          (v): Linear(in_features=256, out_features=256, bias=True)\n",
              "          (o): Linear(in_features=256, out_features=256, bias=True)\n",
              "        )\n",
              "        (feedforward): FeedforwardLayer(\n",
              "          (fc1): Linear(in_features=256, out_features=512, bias=True)\n",
              "          (fc2): Linear(in_features=512, out_features=256, bias=True)\n",
              "          (dropout): Dropout(p=0.1, inplace=False)\n",
              "        )\n",
              "        (dropout): Dropout(p=0.1, inplace=False)\n",
              "      )\n",
              "      (2): DecoderLayer(\n",
              "        (layer_norm): LayerNorm((256,), eps=1e-05, elementwise_affine=True)\n",
              "        (self_attention): MHALayer(\n",
              "          (q): Linear(in_features=256, out_features=256, bias=True)\n",
              "          (k): Linear(in_features=256, out_features=256, bias=True)\n",
              "          (v): Linear(in_features=256, out_features=256, bias=True)\n",
              "          (o): Linear(in_features=256, out_features=256, bias=True)\n",
              "        )\n",
              "        (encoder_attention): MHALayer(\n",
              "          (q): Linear(in_features=256, out_features=256, bias=True)\n",
              "          (k): Linear(in_features=256, out_features=256, bias=True)\n",
              "          (v): Linear(in_features=256, out_features=256, bias=True)\n",
              "          (o): Linear(in_features=256, out_features=256, bias=True)\n",
              "        )\n",
              "        (feedforward): FeedforwardLayer(\n",
              "          (fc1): Linear(in_features=256, out_features=512, bias=True)\n",
              "          (fc2): Linear(in_features=512, out_features=256, bias=True)\n",
              "          (dropout): Dropout(p=0.1, inplace=False)\n",
              "        )\n",
              "        (dropout): Dropout(p=0.1, inplace=False)\n",
              "      )\n",
              "    )\n",
              "    (fc_out): Linear(in_features=256, out_features=5893, bias=True)\n",
              "    (dropout): Dropout(p=0.1, inplace=False)\n",
              "  )\n",
              ")"
            ]
          },
          "metadata": {},
          "execution_count": 102
        }
      ]
    },
    {
      "cell_type": "code",
      "source": [
        "import torch.optim as optim\n",
        "\n",
        "learning_rate = 0.0005\n",
        "optimizer = torch.optim.Adam(model.parameters(), lr=learning_rate)\n",
        "\n",
        "# decoder의 패딩이 된 값에 대해서는 무시\n",
        "criterion = nn.CrossEntropyLoss(ignore_index=dec_pad_idx)"
      ],
      "metadata": {
        "id": "Cq65AgJ9YtFL"
      },
      "execution_count": 103,
      "outputs": []
    },
    {
      "cell_type": "code",
      "source": [
        "# Model Train Function\n",
        "def train(model, data_iterator, optimizer, criterion, clip):\n",
        "    model.train()\n",
        "    epoch_loss = 0\n",
        "\n",
        "    for i, batch in enumerate(data_iterator):\n",
        "        src = batch.src\n",
        "        trg = batch.trg\n",
        "\n",
        "        optimizer.zero_grad()\n",
        "        output, _ = model(src, trg[:, :-1]) # decoder의 input은 <sos>부터 <eos> 전까지 사용\n",
        "        ouput_dim = output.shape[-1]\n",
        "\n",
        "        output = output.contiguous().view(-1, output_dim) # (batch_size * (trg_len - 1), output_dim)\n",
        "        trg = trg[:, 1:].contiguous().view(-1) # (batch_size * (trg_len - 1))\n",
        "\n",
        "        loss = criterion(output, trg)\n",
        "        loss.backward()\n",
        "\n",
        "        # 기울기 clipping (임계치 넘으면, 값을 잘라냄)\n",
        "        torch.nn.utils.clip_grad_norm_(model.parameters(), clip)\n",
        "\n",
        "        # Weight Update\n",
        "        optimizer.step()\n",
        "\n",
        "        # 전체 손실 값 계산\n",
        "        epoch_loss += loss.item()\n",
        "      \n",
        "    return epoch_loss / len(data_iterator) # 배치 하나당 평균 loss"
      ],
      "metadata": {
        "id": "YxeOymB7aQDl"
      },
      "execution_count": 104,
      "outputs": []
    },
    {
      "cell_type": "code",
      "source": [
        "# Model Evaluate Function\n",
        "def evaluate(model, data_iterator, criterion):\n",
        "    model.eval() \n",
        "    epoch_loss = 0\n",
        "\n",
        "    with torch.no_grad():\n",
        "        for i, batch in enumerate(data_iterator):\n",
        "            src = batch.src\n",
        "            trg = batch.trg\n",
        "\n",
        "            output, _ = model(src, trg[:,:-1])\n",
        "            output_dim = output.shape[-1]\n",
        "\n",
        "            output = output.contiguous().view(-1, output_dim)\n",
        "            trg = trg[:,1:].contiguous().view(-1)\n",
        "\n",
        "            loss = criterion(output, trg)\n",
        "            epoch_loss += loss.item()\n",
        "\n",
        "    return epoch_loss / len(data_iterator)"
      ],
      "metadata": {
        "id": "ZCqT-x5TluVM"
      },
      "execution_count": 105,
      "outputs": []
    },
    {
      "cell_type": "code",
      "source": [
        "# Measure time Function\n",
        "import math\n",
        "import time\n",
        "\n",
        "def epoch_time(start_time, end_time):\n",
        "    elapsed_time = end_time - start_time\n",
        "    elapsed_mins = int(elapsed_time / 60)\n",
        "    elapsed_secs = int(elapsed_time - (elapsed_mins * 60))\n",
        "    return elapsed_mins, elapsed_secs"
      ],
      "metadata": {
        "id": "vI3tLbiKcaGw"
      },
      "execution_count": 106,
      "outputs": []
    },
    {
      "cell_type": "code",
      "source": [
        "import time\n",
        "import math\n",
        "import random\n",
        "\n",
        "num_epochs = 10\n",
        "clip = 1\n",
        "best_valid_loss = float('inf')\n",
        "\n",
        "for epoch in range(num_epochs):\n",
        "    start_time = time.time() # start time\n",
        "\n",
        "    train_loss = train(model, train_iterator, optimizer, criterion, clip)\n",
        "    valid_loss = evaluate(model, valid_iterator, criterion)\n",
        "\n",
        "    end_time = time.time() # end time\n",
        "    epoch_mins, epoch_secs = epoch_time(start_time, end_time)\n",
        "\n",
        "    if valid_loss < best_valid_loss:\n",
        "        best_valid_loss = valid_loss\n",
        "        torch.save(model.state_dict(), 'transformer_german_to_english.pt')\n",
        "\n",
        "    print(f'Epoch: {epoch + 1:02} | Time: {epoch_mins}m {epoch_secs}s')\n",
        "    print(f'\\tTrain Loss: {train_loss:.3f}')\n",
        "    print(f'\\tValidation Loss: {valid_loss:.3f}')"
      ],
      "metadata": {
        "colab": {
          "base_uri": "https://localhost:8080/"
        },
        "id": "LIg2UhoamaL-",
        "outputId": "38e267a9-e902-47fe-c04b-42ec86275e51"
      },
      "execution_count": 107,
      "outputs": [
        {
          "output_type": "stream",
          "name": "stdout",
          "text": [
            "Epoch: 01 | Time: 12m 58s\n",
            "\tTrain Loss: 4.201\n",
            "\tValidation Loss: 2.929\n",
            "Epoch: 02 | Time: 12m 44s\n",
            "\tTrain Loss: 2.766\n",
            "\tValidation Loss: 2.280\n",
            "Epoch: 03 | Time: 12m 38s\n",
            "\tTrain Loss: 2.258\n",
            "\tValidation Loss: 2.012\n",
            "Epoch: 04 | Time: 12m 43s\n",
            "\tTrain Loss: 1.956\n",
            "\tValidation Loss: 1.871\n",
            "Epoch: 05 | Time: 12m 38s\n",
            "\tTrain Loss: 1.748\n",
            "\tValidation Loss: 1.776\n",
            "Epoch: 06 | Time: 12m 35s\n",
            "\tTrain Loss: 1.593\n",
            "\tValidation Loss: 1.750\n",
            "Epoch: 07 | Time: 12m 38s\n",
            "\tTrain Loss: 1.465\n",
            "\tValidation Loss: 1.704\n",
            "Epoch: 08 | Time: 12m 34s\n",
            "\tTrain Loss: 1.353\n",
            "\tValidation Loss: 1.701\n",
            "Epoch: 09 | Time: 12m 34s\n",
            "\tTrain Loss: 1.266\n",
            "\tValidation Loss: 1.697\n",
            "Epoch: 10 | Time: 12m 39s\n",
            "\tTrain Loss: 1.183\n",
            "\tValidation Loss: 1.698\n"
          ]
        }
      ]
    },
    {
      "cell_type": "code",
      "source": [
        "# 학습된 모델 저장\n",
        "from google.colab import files\n",
        "\n",
        "files.download('transformer_german_to_english.pt')"
      ],
      "metadata": {
        "colab": {
          "base_uri": "https://localhost:8080/",
          "height": 17
        },
        "id": "OqBap6Vcq4DU",
        "outputId": "4bb5c6e0-d129-4d54-b672-1fae40c42c05"
      },
      "execution_count": 108,
      "outputs": [
        {
          "output_type": "display_data",
          "data": {
            "application/javascript": [
              "\n",
              "    async function download(id, filename, size) {\n",
              "      if (!google.colab.kernel.accessAllowed) {\n",
              "        return;\n",
              "      }\n",
              "      const div = document.createElement('div');\n",
              "      const label = document.createElement('label');\n",
              "      label.textContent = `Downloading \"${filename}\": `;\n",
              "      div.appendChild(label);\n",
              "      const progress = document.createElement('progress');\n",
              "      progress.max = size;\n",
              "      div.appendChild(progress);\n",
              "      document.body.appendChild(div);\n",
              "\n",
              "      const buffers = [];\n",
              "      let downloaded = 0;\n",
              "\n",
              "      const channel = await google.colab.kernel.comms.open(id);\n",
              "      // Send a message to notify the kernel that we're ready.\n",
              "      channel.send({})\n",
              "\n",
              "      for await (const message of channel.messages) {\n",
              "        // Send a message to notify the kernel that we're ready.\n",
              "        channel.send({})\n",
              "        if (message.buffers) {\n",
              "          for (const buffer of message.buffers) {\n",
              "            buffers.push(buffer);\n",
              "            downloaded += buffer.byteLength;\n",
              "            progress.value = downloaded;\n",
              "          }\n",
              "        }\n",
              "      }\n",
              "      const blob = new Blob(buffers, {type: 'application/binary'});\n",
              "      const a = document.createElement('a');\n",
              "      a.href = window.URL.createObjectURL(blob);\n",
              "      a.download = filename;\n",
              "      div.appendChild(a);\n",
              "      a.click();\n",
              "      div.remove();\n",
              "    }\n",
              "  "
            ],
            "text/plain": [
              "<IPython.core.display.Javascript object>"
            ]
          },
          "metadata": {}
        },
        {
          "output_type": "display_data",
          "data": {
            "application/javascript": [
              "download(\"download_8593fec2-67b1-4c4e-bb83-aa656d89c6e8\", \"transformer_german_to_english.pt\", 36176733)"
            ],
            "text/plain": [
              "<IPython.core.display.Javascript object>"
            ]
          },
          "metadata": {}
        }
      ]
    },
    {
      "cell_type": "markdown",
      "source": [
        "### **모델 테스트&Sample 번역**"
      ],
      "metadata": {
        "id": "UaVuDO51q8z4"
      }
    },
    {
      "cell_type": "code",
      "source": [
        "model.load_state_dict(torch.load('transformer_german_to_english.pt'))\n",
        "\n",
        "test_loss = evaluate(model, test_iterator, criterion)\n",
        "\n",
        "print(f'Test Loss: {test_loss:.3f}')"
      ],
      "metadata": {
        "colab": {
          "base_uri": "https://localhost:8080/"
        },
        "id": "Hbb7IJk5q77I",
        "outputId": "45c84f06-cc4c-4c06-d44f-33803c96a9af"
      },
      "execution_count": 109,
      "outputs": [
        {
          "output_type": "stream",
          "name": "stdout",
          "text": [
            "Test Loss: 1.743\n"
          ]
        }
      ]
    },
    {
      "cell_type": "code",
      "source": [
        "# 번역(translation) 함수\n",
        "def translate_sentence(sentence, src_field, trg_field, model, device, max_len=50, logging=True):\n",
        "    model.eval() \n",
        "\n",
        "    if isinstance(sentence, str):\n",
        "        nlp = spacy.load('de')\n",
        "        tokens = [token.text.lower() for token in nlp(sentence)]\n",
        "    else:\n",
        "        tokens = [token.lower() for token in sentence]\n",
        "\n",
        "    tokens = [src_field.init_token] + tokens + [src_field.eos_token] # 처음에 <sos> 토큰, 마지막에 <eos> 토큰 붙이기\n",
        "    if logging:\n",
        "        print(f\"전체 소스 토큰: {tokens}\")\n",
        "\n",
        "    src_indexes = [src_field.vocab.stoi[token] for token in tokens]\n",
        "    if logging:\n",
        "        print(f\"소스 문장 인덱스: {src_indexes}\")\n",
        "\n",
        "    src_tensor = torch.LongTensor(src_indexes).unsqueeze(0).to(device) # (1, src_len)\n",
        "    src_mask = model.make_enc_mask(src_tensor)\n",
        "\n",
        "    # 인코더(endocer)에 소스 문장을 넣어 출력 값 구하기\n",
        "    with torch.no_grad():\n",
        "        enc_src = model.encoder(src_tensor, src_mask)\n",
        "\n",
        "    # 처음에는 <sos> 토큰 하나만 가지고 있도록 하기\n",
        "    trg_indexes = [trg_field.vocab.stoi[trg_field.init_token]]\n",
        "\n",
        "    for i in range(max_len):\n",
        "        trg_tensor = torch.LongTensor(trg_indexes).unsqueeze(0).to(device)\n",
        "\n",
        "        # 출력 문장에 따른 마스크 생성\n",
        "        trg_mask = model.make_dec_mask(trg_tensor)\n",
        "\n",
        "        with torch.no_grad():\n",
        "            output, attention = model.decoder(trg_tensor, enc_src, trg_mask, src_mask)\n",
        "\n",
        "        # 출력 문장에서 가장 마지막 단어만 사용\n",
        "        pred_token = output.argmax(2)[:,-1].item()\n",
        "        trg_indexes.append(pred_token) # 출력 문장에 더하기\n",
        "\n",
        "        # <eos>를 만나는 순간 끝\n",
        "        if pred_token == trg_field.vocab.stoi[trg_field.eos_token]:\n",
        "            break\n",
        "\n",
        "    # 각 출력 단어 인덱스를 실제 단어로 변환\n",
        "    trg_tokens = [trg_field.vocab.itos[i] for i in trg_indexes]\n",
        "\n",
        "    # 첫 번째 <sos>는 제외하고 출력 문장 반환\n",
        "    return trg_tokens[1:], attention"
      ],
      "metadata": {
        "id": "Yu70sihXrPcN"
      },
      "execution_count": 112,
      "outputs": []
    },
    {
      "cell_type": "code",
      "source": [
        "example_idx = 10\n",
        "\n",
        "src = vars(test_dataset.examples[example_idx])['src']\n",
        "trg = vars(test_dataset.examples[example_idx])['trg']\n",
        "\n",
        "print(f'소스 문장: {src}')\n",
        "print(f'타겟 문장: {trg}')\n",
        "\n",
        "translation, attention = translate_sentence(src, SRC, TRG, model, device, logging=True)\n",
        "\n",
        "print(\"모델 출력 결과:\", \" \".join(translation))"
      ],
      "metadata": {
        "colab": {
          "base_uri": "https://localhost:8080/"
        },
        "id": "rE4im7hi5HNB",
        "outputId": "25699ed9-a054-4437-872b-8f29b8f82d86"
      },
      "execution_count": 113,
      "outputs": [
        {
          "output_type": "stream",
          "name": "stdout",
          "text": [
            "소스 문장: ['eine', 'mutter', 'und', 'ihr', 'kleiner', 'sohn', 'genießen', 'einen', 'schönen', 'tag', 'im', 'freien', '.']\n",
            "타겟 문장: ['a', 'mother', 'and', 'her', 'young', 'song', 'enjoying', 'a', 'beautiful', 'day', 'outside', '.']\n",
            "전체 소스 토큰: ['<sos>', 'eine', 'mutter', 'und', 'ihr', 'kleiner', 'sohn', 'genießen', 'einen', 'schönen', 'tag', 'im', 'freien', '.', '<eos>']\n",
            "소스 문장 인덱스: [2, 8, 364, 10, 134, 70, 624, 565, 19, 780, 200, 20, 88, 4, 3]\n",
            "모델 출력 결과: a mother and her baby enjoying a beautiful day outside . <eos>\n"
          ]
        }
      ]
    },
    {
      "cell_type": "markdown",
      "source": [
        "### **Attention map 시각화**"
      ],
      "metadata": {
        "id": "x7UUBv-J6x54"
      }
    },
    {
      "cell_type": "code",
      "source": [
        "import matplotlib.pyplot as plt\n",
        "import matplotlib.ticker as ticker\n",
        "\n",
        "def display_attention(sentence, translation, attention, n_heads=8, n_rows=4, n_cols=2):\n",
        "\n",
        "    assert n_rows * n_cols == n_heads\n",
        "\n",
        "    # 출력할 그림 크기 조절\n",
        "    fig = plt.figure(figsize=(15, 25))\n",
        "\n",
        "    for i in range(n_heads):\n",
        "        ax = fig.add_subplot(n_rows, n_cols, i + 1)\n",
        "        _attention = attention.squeeze(0)[i].cpu().detach().numpy()\n",
        "\n",
        "        cax = ax.matshow(_attention, cmap='bone')\n",
        "\n",
        "        ax.tick_params(labelsize=12)\n",
        "        ax.set_xticklabels([''] + ['<sos>'] + [t.lower() for t in sentence] + ['<eos>'], rotation=45)\n",
        "        ax.set_yticklabels([''] + translation)\n",
        "\n",
        "        ax.xaxis.set_major_locator(ticker.MultipleLocator(1))\n",
        "        ax.yaxis.set_major_locator(ticker.MultipleLocator(1))\n",
        "\n",
        "    plt.show()\n",
        "    plt.close()"
      ],
      "metadata": {
        "id": "PUOoVl5D5Pyn"
      },
      "execution_count": 114,
      "outputs": []
    },
    {
      "cell_type": "code",
      "source": [
        "display_attention(src, translation, attention)"
      ],
      "metadata": {
        "colab": {
          "base_uri": "https://localhost:8080/",
          "height": 1000
        },
        "id": "mLmqVyRZeLpa",
        "outputId": "637d8ac3-9993-43cc-cc7c-4b211ef2bfad"
      },
      "execution_count": 115,
      "outputs": [
        {
          "output_type": "display_data",
          "data": {
            "image/png": "[encoded data removed]",
            "text/plain": [
              "<Figure size 1080x1800 with 8 Axes>"
            ]
          },
          "metadata": {
            "needs_background": "light"
          }
        }
      ]
    },
    {
      "cell_type": "markdown",
      "source": [
        "### **BLEU 계산**"
      ],
      "metadata": {
        "id": "R24-rR2J8iIu"
      }
    },
    {
      "cell_type": "code",
      "source": [
        "from torchtext.data.metrics import bleu_score\n",
        "\n",
        "def show_bleu(data, src_field, trg_field, model, device, max_len=50):\n",
        "    trgs = []\n",
        "    pred_trgs = []\n",
        "    index = 0\n",
        "\n",
        "    for datum in data:\n",
        "        src = vars(datum)['src']\n",
        "        trg = vars(datum)['trg']\n",
        "\n",
        "        pred_trg, _ = translate_sentence(src, src_field, trg_field, model, device, max_len, logging=False)\n",
        "\n",
        "        # 마지막 <eos> 토큰 제거\n",
        "        pred_trg = pred_trg[:-1]\n",
        "\n",
        "        pred_trgs.append(pred_trg)\n",
        "        trgs.append([trg])\n",
        "\n",
        "        index += 1\n",
        "        if (index + 1) % 100 == 0:\n",
        "            print(f\"[{index + 1}/{len(data)}]\")\n",
        "            print(f\"예측: {pred_trg}\")\n",
        "            print(f\"정답: {trg}\")\n",
        "\n",
        "    bleu = bleu_score(pred_trgs, trgs, max_n=4, weights=[0.25, 0.25, 0.25, 0.25])\n",
        "    print(f'Total BLEU Score = {bleu*100:.2f}')\n",
        "\n",
        "    individual_bleu1_score = bleu_score(pred_trgs, trgs, max_n=4, weights=[1, 0, 0, 0])\n",
        "    individual_bleu2_score = bleu_score(pred_trgs, trgs, max_n=4, weights=[0, 1, 0, 0])\n",
        "    individual_bleu3_score = bleu_score(pred_trgs, trgs, max_n=4, weights=[0, 0, 1, 0])\n",
        "    individual_bleu4_score = bleu_score(pred_trgs, trgs, max_n=4, weights=[0, 0, 0, 1])\n",
        "\n",
        "    print(f'Individual BLEU1 score = {individual_bleu1_score*100:.2f}') \n",
        "    print(f'Individual BLEU2 score = {individual_bleu2_score*100:.2f}') \n",
        "    print(f'Individual BLEU3 score = {individual_bleu3_score*100:.2f}') \n",
        "    print(f'Individual BLEU4 score = {individual_bleu4_score*100:.2f}') \n",
        "\n",
        "    cumulative_bleu1_score = bleu_score(pred_trgs, trgs, max_n=4, weights=[1, 0, 0, 0])\n",
        "    cumulative_bleu2_score = bleu_score(pred_trgs, trgs, max_n=4, weights=[1/2, 1/2, 0, 0])\n",
        "    cumulative_bleu3_score = bleu_score(pred_trgs, trgs, max_n=4, weights=[1/3, 1/3, 1/3, 0])\n",
        "    cumulative_bleu4_score = bleu_score(pred_trgs, trgs, max_n=4, weights=[1/4, 1/4, 1/4, 1/4])\n",
        "\n",
        "    print(f'Cumulative BLEU1 score = {cumulative_bleu1_score*100:.2f}') \n",
        "    print(f'Cumulative BLEU2 score = {cumulative_bleu2_score*100:.2f}') \n",
        "    print(f'Cumulative BLEU3 score = {cumulative_bleu3_score*100:.2f}') \n",
        "    print(f'Cumulative BLEU4 score = {cumulative_bleu4_score*100:.2f}') "
      ],
      "metadata": {
        "id": "p69d6z9S79Jc"
      },
      "execution_count": 116,
      "outputs": []
    },
    {
      "cell_type": "code",
      "source": [
        "show_bleu(test_dataset, SRC, TRG, model, device)"
      ],
      "metadata": {
        "colab": {
          "base_uri": "https://localhost:8080/"
        },
        "id": "UibBcmVfebtN",
        "outputId": "8f6dc921-7466-46f2-c29b-51b272478f61"
      },
      "execution_count": 117,
      "outputs": [
        {
          "output_type": "stream",
          "name": "stdout",
          "text": [
            "[100/1000]\n",
            "예측: ['a', 'group', 'of', 'asian', 'children', 'sit', 'in', 'blue', 'chairs', 'together', 'to', 'be', 'paying', 'blue', 'chairs', '.']\n",
            "정답: ['a', 'group', 'of', 'mostly', 'asian', 'children', 'sitting', 'at', 'cubicles', 'in', 'blue', 'chairs', '.']\n",
            "[200/1000]\n",
            "예측: ['all', 'in', 'the', 'group', 'of', 'people', 'stand', 'under', 'umbrellas', '.']\n",
            "정답: ['the', 'group', 'of', 'people', 'are', 'all', 'covered', 'by', 'umbrellas', '.']\n",
            "[300/1000]\n",
            "예측: ['a', 'goalie', 'in', 'a', 'yellow', 'jersey', 'is', 'shielding', 'the', 'goal', '.']\n",
            "정답: ['a', 'goalie', 'in', 'a', 'yellow', 'field', 'is', 'protecting', 'the', 'goal', '.']\n",
            "[400/1000]\n",
            "예측: ['two', 'young', 'children', 'on', 'the', 'sand', '.']\n",
            "정답: ['two', 'young', 'children', 'are', 'on', 'sand', '.']\n",
            "[500/1000]\n",
            "예측: ['two', 'brown', 'dogs', 'run', 'through', 'the', 'snow', '.']\n",
            "정답: ['two', 'medium', 'sized', 'dogs', 'run', 'across', 'the', 'snow', '.']\n",
            "[600/1000]\n",
            "예측: ['a', 'group', 'of', 'men', 'sit', 'and', 'talking', 'behind', 'a', 'green', '<unk>', '.']\n",
            "정답: ['a', 'group', 'of', 'men', 'sitting', 'and', 'talking', 'behind', 'some', 'green', 'fruit', '.']\n",
            "[700/1000]\n",
            "예측: ['two', 'people', 'looking', 'at', 'the', 'city', 'corner', 'of', 'a', 'city', '.']\n",
            "정답: ['two', 'people', 'look', 'on', 'in', 'the', 'nighttime', 'at', 'the', 'lights', 'in', 'a', 'city', '.']\n",
            "[800/1000]\n",
            "예측: ['the', '<unk>', 'of', 'all', 'riding', 'bicycles', '.']\n",
            "정답: ['crowds', 'of', 'people', 'are', 'all', 'riding', 'bicycles', '.']\n",
            "[900/1000]\n",
            "예측: ['children', 'fight', 'for', 'the', 'ball', '.']\n",
            "정답: ['kids', 'compete', 'to', 'gain', 'possession', 'of', 'the', 'soccer', 'ball', '.']\n",
            "[1000/1000]\n",
            "예측: ['an', 'older', 'man', 'playing', 'a', 'video', 'game', '.']\n",
            "정답: ['an', 'older', 'man', 'is', 'playing', 'a', 'video', 'arcade', 'game', '.']\n",
            "Total BLEU Score = 34.22\n",
            "Individual BLEU1 score = 66.68\n",
            "Individual BLEU2 score = 42.24\n",
            "Individual BLEU3 score = 27.23\n",
            "Individual BLEU4 score = 17.89\n",
            "Cumulative BLEU1 score = 66.68\n",
            "Cumulative BLEU2 score = 53.07\n",
            "Cumulative BLEU3 score = 42.49\n",
            "Cumulative BLEU4 score = 34.22\n"
          ]
        }
      ]
    }
  ]
}